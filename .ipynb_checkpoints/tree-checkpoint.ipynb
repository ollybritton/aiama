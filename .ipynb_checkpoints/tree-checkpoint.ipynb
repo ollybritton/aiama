{
 "cells": [
  {
   "cell_type": "markdown",
   "metadata": {},
   "source": [
    "## Chapter 3: Solving Problems by Searching\n",
    "\n",
    "> In which we see how an agent can find a sequence of actions that achieves goals when no single action will do.\n",
    "\n",
    "If you imagine a vacuuming robot whose performance is measured by the cleanliness of the floor at each given time step, it's easy to work out what to do in any given moment. If the floor is dirty you suck up all the dirt, and if the floor is clean then you move to a new square and repeat the process. Each immediate action has a value that you can determine since it's simple to see how each choice you make will impact the performance measure.\n",
    "\n",
    "But what do you do when you have several options for action that have _unknown value_? How do you decide what steps you should take? An example of this would be trying to drive from one town to another; there's many different possible paths you can take and it's not clear which one will put you in the best position.\n",
    "\n",
    "Searching is the solution to this -- exploring different combinations of actions in order to find the one that works best (or to find any solution at all in a reasonable amount of time).\n",
    "\n",
    "There's two main types of searches:\n",
    "\n",
    "* Uninformed searches, which have no knowledge other than the description of the problem.\n",
    "* Informed searches, which can make use of specialised information (heurisitics) to better optimise what to search first.\n",
    "\n"
   ]
  },
  {
   "cell_type": "markdown",
   "metadata": {},
   "source": [
    "### Trees, Graphs and Queues"
   ]
  },
  {
   "cell_type": "code",
   "execution_count": 14,
   "metadata": {},
   "outputs": [],
   "source": [
    "import networkx as nx\n",
    "import matplotlib.pyplot as plt\n",
    "import queue"
   ]
  },
  {
   "cell_type": "code",
   "execution_count": 21,
   "metadata": {},
   "outputs": [],
   "source": [
    "G = nx.DiGraph()\n",
    "\n",
    "G.add_node(\"I\")\n",
    "\n",
    "G.add_node(\"A\")\n",
    "G.add_edge(\"I\", \"A\", action=\"Successor 1\")\n",
    "\n",
    "G.add_node(\"B\")\n",
    "G.add_edge(\"I\", \"B\", action=\"Successor 2\")\n",
    "\n",
    "G.add_node(\"C\")\n",
    "G.add_edge(\"A\", \"C\", action=\"Successor 1 -> 2\")\n",
    "\n",
    "G.add_node(\"D\")\n",
    "G.add_edge(\"B\", \"D\", action=\"Successor 2 -> 1\")\n",
    "G.add_node(\"E\")\n",
    "G.add_edge(\"B\", \"E\", action=\"Successor 2 -> 2\")"
   ]
  },
  {
   "cell_type": "code",
   "execution_count": 22,
   "metadata": {},
   "outputs": [
    {
     "data": {
      "image/png": "[encoded data removed]",
      "text/plain": [
       "<Figure size 432x288 with 1 Axes>"
      ]
     },
     "metadata": {},
     "output_type": "display_data"
    }
   ],
   "source": [
    "nx.draw(G, with_labels=True)"
   ]
  },
  {
   "cell_type": "code",
   "execution_count": 64,
   "metadata": {},
   "outputs": [],
   "source": [
    "# solution finds the action sequence to achieve a goal state by unwinding from the goal node.\n",
    "def solution(g, end):\n",
    "    predecessors = [x for x in g.predecessors(end)]\n",
    "    \n",
    "    if len(predecessors) == 0:\n",
    "        return actions\n",
    "    \n",
    "    return solution(g, predecessors[0]) + predecessors\n",
    "\n",
    "# breadth_first_search uses the breadth-first search strategy in order to find a goal node in state space.\n",
    "def breadth_first_search(g, initial, goal):\n",
    "    if initial == goal:\n",
    "        return [initial]\n",
    "    \n",
    "    node = initial\n",
    "    \n",
    "    frontier = SetQueue()\n",
    "    frontier.put(node)\n",
    "    \n",
    "    explored = set()\n",
    "    \n",
    "    while not frontier.empty():\n",
    "        node = frontier.get()\n",
    "        explored.add(node)\n",
    "        \n",
    "        for child in g.successors(node):\n",
    "            if not (child in explored or child in frontier):\n",
    "                if child == goal:\n",
    "                    return solution(g, child)\n",
    "\n",
    "                frontier.put(child)\n",
    "        \n",
    "    return False\n",
    "    "
   ]
  },
  {
   "cell_type": "code",
   "execution_count": 65,
   "metadata": {},
   "outputs": [
    {
     "ename": "TypeError",
     "evalue": "argument of type 'SetQueue' is not iterable",
     "output_type": "error",
     "traceback": [
      "\u001b[0;31m---------------------------------------------------------------------------\u001b[0m",
      "\u001b[0;31mTypeError\u001b[0m                                 Traceback (most recent call last)",
      "\u001b[0;32m<ipython-input-65-6f485090ab83>\u001b[0m in \u001b[0;36m<module>\u001b[0;34m\u001b[0m\n\u001b[0;32m----> 1\u001b[0;31m \u001b[0mbreadth_first_search\u001b[0m\u001b[0;34m(\u001b[0m\u001b[0mG\u001b[0m\u001b[0;34m,\u001b[0m \u001b[0;34m\"I\"\u001b[0m\u001b[0;34m,\u001b[0m \u001b[0;34m\"D\"\u001b[0m\u001b[0;34m)\u001b[0m\u001b[0;34m\u001b[0m\u001b[0;34m\u001b[0m\u001b[0m\n\u001b[0m",
      "\u001b[0;32m<ipython-input-64-e9027e3872b2>\u001b[0m in \u001b[0;36mbreadth_first_search\u001b[0;34m(g, initial, goal)\u001b[0m\n\u001b[1;32m     25\u001b[0m \u001b[0;34m\u001b[0m\u001b[0m\n\u001b[1;32m     26\u001b[0m         \u001b[0;32mfor\u001b[0m \u001b[0mchild\u001b[0m \u001b[0;32min\u001b[0m \u001b[0mg\u001b[0m\u001b[0;34m.\u001b[0m\u001b[0msuccessors\u001b[0m\u001b[0;34m(\u001b[0m\u001b[0mnode\u001b[0m\u001b[0;34m)\u001b[0m\u001b[0;34m:\u001b[0m\u001b[0;34m\u001b[0m\u001b[0;34m\u001b[0m\u001b[0m\n\u001b[0;32m---> 27\u001b[0;31m             \u001b[0;32mif\u001b[0m \u001b[0;32mnot\u001b[0m \u001b[0;34m(\u001b[0m\u001b[0mchild\u001b[0m \u001b[0;32min\u001b[0m \u001b[0mexplored\u001b[0m \u001b[0;32mor\u001b[0m \u001b[0mchild\u001b[0m \u001b[0;32min\u001b[0m \u001b[0mfrontier\u001b[0m\u001b[0;34m)\u001b[0m\u001b[0;34m:\u001b[0m\u001b[0;34m\u001b[0m\u001b[0;34m\u001b[0m\u001b[0m\n\u001b[0m\u001b[1;32m     28\u001b[0m                 \u001b[0;32mif\u001b[0m \u001b[0mchild\u001b[0m \u001b[0;34m==\u001b[0m \u001b[0mgoal\u001b[0m\u001b[0;34m:\u001b[0m\u001b[0;34m\u001b[0m\u001b[0;34m\u001b[0m\u001b[0m\n\u001b[1;32m     29\u001b[0m                     \u001b[0;32mreturn\u001b[0m \u001b[0msolution\u001b[0m\u001b[0;34m(\u001b[0m\u001b[0mg\u001b[0m\u001b[0;34m,\u001b[0m \u001b[0mchild\u001b[0m\u001b[0;34m)\u001b[0m\u001b[0;34m\u001b[0m\u001b[0;34m\u001b[0m\u001b[0m\n",
      "\u001b[0;31mTypeError\u001b[0m: argument of type 'SetQueue' is not iterable"
     ]
    }
   ],
   "source": [
    "breadth_first_search(G, \"I\", \"D\")"
   ]
  },
  {
   "cell_type": "code",
   "execution_count": 49,
   "metadata": {},
   "outputs": [],
   "source": [
    "fibonacci = lambda x: 0 if x == 0 else 1 if x == 1 else 1 if x == 2 else fibonacci(x - 2) + fibonacci(x - 1)\n",
    "fibonacci(7)"
   ]
  },
  {
   "cell_type": "code",
   "execution_count": 56,
   "metadata": {},
   "outputs": [
    {
     "data": {
      "text/plain": [
       "13"
      ]
     },
     "execution_count": 56,
     "metadata": {},
     "output_type": "execute_result"
    }
   ],
   "source": []
  },
  {
   "cell_type": "code",
   "execution_count": null,
   "metadata": {},
   "outputs": [],
   "source": []
  }
 ],
 "metadata": {
  "kernelspec": {
   "display_name": "Python 3",
   "language": "python",
   "name": "python3"
  },
  "language_info": {
   "codemirror_mode": {
    "name": "ipython",
    "version": 3
   },
   "file_extension": ".py",
   "mimetype": "text/x-python",
   "name": "python",
   "nbconvert_exporter": "python",
   "pygments_lexer": "ipython3",
   "version": "3.7.3"
  }
 },
 "nbformat": 4,
 "nbformat_minor": 4
}
